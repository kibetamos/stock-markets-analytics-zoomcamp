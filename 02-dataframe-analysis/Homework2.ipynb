{
 "cells": [
  {
   "cell_type": "code",
   "execution_count": 1,
   "id": "46da479c",
   "metadata": {},
   "outputs": [
    {
     "name": "stdout",
     "output_type": "stream",
     "text": [
      "Requirement already satisfied: yfinance in /home/amos/anaconda3/lib/python3.10/site-packages (0.2.38)\n",
      "Requirement already satisfied: requests>=2.31 in /home/amos/anaconda3/lib/python3.10/site-packages (from yfinance) (2.31.0)\n",
      "Requirement already satisfied: pytz>=2022.5 in /home/amos/anaconda3/lib/python3.10/site-packages (from yfinance) (2022.7)\n",
      "Requirement already satisfied: frozendict>=2.3.4 in /home/amos/anaconda3/lib/python3.10/site-packages (from yfinance) (2.4.4)\n",
      "Requirement already satisfied: appdirs>=1.4.4 in /home/amos/anaconda3/lib/python3.10/site-packages (from yfinance) (1.4.4)\n",
      "Requirement already satisfied: beautifulsoup4>=4.11.1 in /home/amos/anaconda3/lib/python3.10/site-packages (from yfinance) (4.11.1)\n",
      "Requirement already satisfied: html5lib>=1.1 in /home/amos/anaconda3/lib/python3.10/site-packages (from yfinance) (1.1)\n",
      "Requirement already satisfied: peewee>=3.16.2 in /home/amos/anaconda3/lib/python3.10/site-packages (from yfinance) (3.17.3)\n",
      "Requirement already satisfied: multitasking>=0.0.7 in /home/amos/anaconda3/lib/python3.10/site-packages (from yfinance) (0.0.11)\n",
      "Requirement already satisfied: lxml>=4.9.1 in /home/amos/anaconda3/lib/python3.10/site-packages (from yfinance) (4.9.1)\n",
      "Requirement already satisfied: pandas>=1.3.0 in /home/amos/anaconda3/lib/python3.10/site-packages (from yfinance) (1.4.4)\n",
      "Requirement already satisfied: numpy>=1.16.5 in /home/amos/anaconda3/lib/python3.10/site-packages (from yfinance) (1.23.5)\n",
      "Requirement already satisfied: soupsieve>1.2 in /home/amos/anaconda3/lib/python3.10/site-packages (from beautifulsoup4>=4.11.1->yfinance) (2.3.2.post1)\n",
      "Requirement already satisfied: six>=1.9 in /home/amos/anaconda3/lib/python3.10/site-packages (from html5lib>=1.1->yfinance) (1.16.0)\n",
      "Requirement already satisfied: webencodings in /home/amos/anaconda3/lib/python3.10/site-packages (from html5lib>=1.1->yfinance) (0.5.1)\n",
      "Requirement already satisfied: python-dateutil>=2.8.1 in /home/amos/anaconda3/lib/python3.10/site-packages (from pandas>=1.3.0->yfinance) (2.8.2)\n",
      "Requirement already satisfied: urllib3<3,>=1.21.1 in /home/amos/anaconda3/lib/python3.10/site-packages (from requests>=2.31->yfinance) (1.26.14)\n",
      "Requirement already satisfied: idna<4,>=2.5 in /home/amos/anaconda3/lib/python3.10/site-packages (from requests>=2.31->yfinance) (3.4)\n",
      "Requirement already satisfied: charset-normalizer<4,>=2 in /home/amos/anaconda3/lib/python3.10/site-packages (from requests>=2.31->yfinance) (2.0.4)\n",
      "Requirement already satisfied: certifi>=2017.4.17 in /home/amos/anaconda3/lib/python3.10/site-packages (from requests>=2.31->yfinance) (2022.12.7)\n"
     ]
    }
   ],
   "source": [
    "%pip install yfinance"
   ]
  },
  {
   "cell_type": "code",
   "execution_count": 3,
   "id": "f0a85d00",
   "metadata": {},
   "outputs": [],
   "source": [
    "# IMPORTS\n",
    "import numpy as np\n",
    "import pandas as pd\n",
    "\n",
    "#Fin Data Sources\n",
    "import yfinance as yf\n",
    "import pandas_datareader as pdr\n",
    "\n",
    "#Data viz\n",
    "import plotly.graph_objs as go\n",
    "import plotly.express as px\n",
    "\n",
    "import time\n",
    "from datetime import date\n",
    "\n",
    "# for graphs\n",
    "import matplotlib.pyplot as plt"
   ]
  },
  {
   "cell_type": "code",
   "execution_count": 4,
   "id": "851d3a0a",
   "metadata": {},
   "outputs": [],
   "source": [
    "import pandas as pd\n",
    "import requests\n",
    "\n",
    "headers = {\n",
    "    'User-Agent': 'Mozilla/5.0 (Windows NT 10.0; Win64; x64) AppleWebKit/537.36 (KHTML, like Gecko) Chrome/58.0.3029.110 Safari/537.3',\n",
    "}\n",
    "\n",
    "url = \"https://stockanalysis.com/ipos/2023/\"\n",
    "response = requests.get(url, headers=headers)\n",
    "\n",
    "ipo_dfs = pd.read_html(response.text)"
   ]
  },
  {
   "cell_type": "code",
   "execution_count": 6,
   "id": "f5974a3a",
   "metadata": {},
   "outputs": [
    {
     "name": "stdout",
     "output_type": "stream",
     "text": [
      "<class 'pandas.core.frame.DataFrame'>\n",
      "RangeIndex: 154 entries, 0 to 153\n",
      "Data columns (total 6 columns):\n",
      " #   Column        Non-Null Count  Dtype \n",
      "---  ------        --------------  ----- \n",
      " 0   IPO Date      154 non-null    object\n",
      " 1   Symbol        154 non-null    object\n",
      " 2   Company Name  154 non-null    object\n",
      " 3   IPO Price     154 non-null    object\n",
      " 4   Current       154 non-null    object\n",
      " 5   Return        154 non-null    object\n",
      "dtypes: object(6)\n",
      "memory usage: 7.3+ KB\n"
     ]
    }
   ],
   "source": [
    "ipos_2023 = ipo_dfs[0]\n",
    "ipos_2023.info()"
   ]
  },
  {
   "cell_type": "code",
   "execution_count": null,
   "id": "6415f275",
   "metadata": {},
   "outputs": [],
   "source": []
  }
 ],
 "metadata": {
  "kernelspec": {
   "display_name": "Python 3 (ipykernel)",
   "language": "python",
   "name": "python3"
  },
  "language_info": {
   "codemirror_mode": {
    "name": "ipython",
    "version": 3
   },
   "file_extension": ".py",
   "mimetype": "text/x-python",
   "name": "python",
   "nbconvert_exporter": "python",
   "pygments_lexer": "ipython3",
   "version": "3.10.9"
  }
 },
 "nbformat": 4,
 "nbformat_minor": 5
}
